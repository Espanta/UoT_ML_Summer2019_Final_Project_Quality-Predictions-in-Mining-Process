{
 "cells": [
  {
   "cell_type": "markdown",
   "metadata": {},
   "source": [
    "# Step 1: Import Needed Libraries and Data"
   ]
  },
  {
   "cell_type": "code",
   "execution_count": 2,
   "metadata": {},
   "outputs": [],
   "source": [
    "import pandas as pd\n",
    "import numpy as np\n",
    "\n",
    "from sklearn.pipeline import Pipeline\n",
    "\n",
    "from sklearn.model_selection import train_test_split\n",
    "\n",
    "from sklearn.preprocessing import MinMaxScaler\n",
    "\n",
    "from sklearn.linear_model import LinearRegression\n",
    "from sklearn.linear_model import SGDRegressor\n",
    "from sklearn.linear_model import Ridge\n",
    "from sklearn.linear_model import Lasso\n",
    "from sklearn.neighbors import KNeighborsRegressor\n",
    "from sklearn.tree import DecisionTreeRegressor\n",
    "from sklearn.ensemble import RandomForestRegressor\n",
    "from sklearn.ensemble import GradientBoostingRegressor\n",
    "\n",
    "#Display all run results in a cell instead of last command only\n",
    "from IPython.core.interactiveshell import InteractiveShell\n",
    "InteractiveShell.ast_node_interactivity = \"all\""
   ]
  },
  {
   "cell_type": "code",
   "execution_count": 3,
   "metadata": {},
   "outputs": [
    {
     "data": {
      "text/html": [
       "<div>\n",
       "<style scoped>\n",
       "    .dataframe tbody tr th:only-of-type {\n",
       "        vertical-align: middle;\n",
       "    }\n",
       "\n",
       "    .dataframe tbody tr th {\n",
       "        vertical-align: top;\n",
       "    }\n",
       "\n",
       "    .dataframe thead th {\n",
       "        text-align: right;\n",
       "    }\n",
       "</style>\n",
       "<table border=\"1\" class=\"dataframe\">\n",
       "  <thead>\n",
       "    <tr style=\"text-align: right;\">\n",
       "      <th></th>\n",
       "      <th>avg_air_flow_267</th>\n",
       "      <th>avg_float_level_47</th>\n",
       "      <th>% Iron Feed</th>\n",
       "      <th>Amina Flow</th>\n",
       "      <th>Ore Pulp pH</th>\n",
       "      <th>Ore Pulp Density</th>\n",
       "      <th>% Silica Concentrate</th>\n",
       "    </tr>\n",
       "    <tr>\n",
       "      <th>date</th>\n",
       "      <th></th>\n",
       "      <th></th>\n",
       "      <th></th>\n",
       "      <th></th>\n",
       "      <th></th>\n",
       "      <th></th>\n",
       "      <th></th>\n",
       "    </tr>\n",
       "  </thead>\n",
       "  <tbody>\n",
       "    <tr>\n",
       "      <th>2017-03-10 01:00:00</th>\n",
       "      <td>251.448000</td>\n",
       "      <td>483.4510</td>\n",
       "      <td>55.2</td>\n",
       "      <td>557.434</td>\n",
       "      <td>10.0664</td>\n",
       "      <td>1.74</td>\n",
       "      <td>1.31</td>\n",
       "    </tr>\n",
       "    <tr>\n",
       "      <th>2017-03-10 01:00:00</th>\n",
       "      <td>249.887667</td>\n",
       "      <td>473.0805</td>\n",
       "      <td>55.2</td>\n",
       "      <td>563.965</td>\n",
       "      <td>10.0672</td>\n",
       "      <td>1.74</td>\n",
       "      <td>1.31</td>\n",
       "    </tr>\n",
       "    <tr>\n",
       "      <th>2017-03-10 01:00:00</th>\n",
       "      <td>249.096667</td>\n",
       "      <td>454.1275</td>\n",
       "      <td>55.2</td>\n",
       "      <td>568.054</td>\n",
       "      <td>10.0680</td>\n",
       "      <td>1.74</td>\n",
       "      <td>1.31</td>\n",
       "    </tr>\n",
       "    <tr>\n",
       "      <th>2017-03-10 01:00:00</th>\n",
       "      <td>252.018667</td>\n",
       "      <td>436.9395</td>\n",
       "      <td>55.2</td>\n",
       "      <td>568.665</td>\n",
       "      <td>10.0689</td>\n",
       "      <td>1.74</td>\n",
       "      <td>1.31</td>\n",
       "    </tr>\n",
       "    <tr>\n",
       "      <th>2017-03-10 01:00:00</th>\n",
       "      <td>250.349000</td>\n",
       "      <td>439.6745</td>\n",
       "      <td>55.2</td>\n",
       "      <td>558.167</td>\n",
       "      <td>10.0697</td>\n",
       "      <td>1.74</td>\n",
       "      <td>1.31</td>\n",
       "    </tr>\n",
       "  </tbody>\n",
       "</table>\n",
       "</div>"
      ],
      "text/plain": [
       "                     avg_air_flow_267  avg_float_level_47  % Iron Feed  \\\n",
       "date                                                                     \n",
       "2017-03-10 01:00:00        251.448000            483.4510         55.2   \n",
       "2017-03-10 01:00:00        249.887667            473.0805         55.2   \n",
       "2017-03-10 01:00:00        249.096667            454.1275         55.2   \n",
       "2017-03-10 01:00:00        252.018667            436.9395         55.2   \n",
       "2017-03-10 01:00:00        250.349000            439.6745         55.2   \n",
       "\n",
       "                     Amina Flow  Ore Pulp pH  Ore Pulp Density  \\\n",
       "date                                                             \n",
       "2017-03-10 01:00:00     557.434      10.0664              1.74   \n",
       "2017-03-10 01:00:00     563.965      10.0672              1.74   \n",
       "2017-03-10 01:00:00     568.054      10.0680              1.74   \n",
       "2017-03-10 01:00:00     568.665      10.0689              1.74   \n",
       "2017-03-10 01:00:00     558.167      10.0697              1.74   \n",
       "\n",
       "                     % Silica Concentrate  \n",
       "date                                       \n",
       "2017-03-10 01:00:00                  1.31  \n",
       "2017-03-10 01:00:00                  1.31  \n",
       "2017-03-10 01:00:00                  1.31  \n",
       "2017-03-10 01:00:00                  1.31  \n",
       "2017-03-10 01:00:00                  1.31  "
      ]
     },
     "execution_count": 3,
     "metadata": {},
     "output_type": "execute_result"
    }
   ],
   "source": [
    "df_ml=pd.read_csv('ML_data.csv',sep=',')\n",
    "df_ml=df_ml.set_index('date')\n",
    "df_ml.head()"
   ]
  },
  {
   "cell_type": "markdown",
   "metadata": {},
   "source": [
    "# Step 2: Build Pipelines for different Regression ML Algorithms"
   ]
  },
  {
   "cell_type": "code",
   "execution_count": 4,
   "metadata": {},
   "outputs": [],
   "source": [
    "# Building pipelines that\n",
    "\n",
    "# 1) scale the data using MinMaxScaler:\n",
    "    #from sklearn; Transforms features by scaling each feature to a given range. This estimator scales and\n",
    "    #translates each feature individually such that it is in the given range on the training set, e.g. between zero and one.\n",
    "    \n",
    "# 2) fits data to different regression algorithms    \n",
    "\n",
    "pipe_lin = Pipeline([('scaler', MinMaxScaler()), ('Linear Regression', LinearRegression())])\n",
    "pipe_SGDR = Pipeline([('scaler', MinMaxScaler()), ('SGDR', SGDRegressor())])\n",
    "pipe_Ridge = Pipeline([('scaler', MinMaxScaler()), ('Ridge', Ridge())])\n",
    "pipe_Lasso = Pipeline([('scaler', MinMaxScaler()), ('Lasso', Lasso())])\n",
    "pipe_KNN = Pipeline([('scaler', MinMaxScaler()), ('KNN Regressor', KNeighborsRegressor())])\n",
    "pipe_DTR = Pipeline([('scaler', MinMaxScaler()), ('Decision Tree Regressor', DecisionTreeRegressor())])\n",
    "pipe_RFR = Pipeline([('scaler', MinMaxScaler()), ('Random Forest Regressor', RandomForestRegressor(random_state = 42))])\n",
    "pipe_GBR = Pipeline([('scaler', MinMaxScaler()), ('GBR', GradientBoostingRegressor(random_state = 42))])\n",
    "\n",
    "\n",
    "#Creating a list of pipelines for looping later on\n",
    "pipelines= [pipe_lin, pipe_SGDR, pipe_Ridge, pipe_Lasso, pipe_KNN, pipe_DTR, pipe_RFR, pipe_GBR]\n",
    "\n",
    "#creating a dictionary with keys \n",
    "pipeline_dict = {0: 'Linear Regression', 1: 'SGDR', 2: 'Ridge', 3: 'Lasso', \n",
    "                 4:'KNN Regressor', 5: 'Decision Tree Regressor', 6: 'Random Forest Regressor', 7: 'Gradient Boosting Regressor'}"
   ]
  },
  {
   "cell_type": "markdown",
   "metadata": {},
   "source": [
    "# Step 3: Split Data into Test and Train sets"
   ]
  },
  {
   "cell_type": "code",
   "execution_count": 5,
   "metadata": {},
   "outputs": [
    {
     "data": {
      "text/plain": [
       "((259856, 6), (86619, 6), (259856,), (86619,))"
      ]
     },
     "execution_count": 5,
     "metadata": {},
     "output_type": "execute_result"
    }
   ],
   "source": [
    "# convert dataframe into multidimentional array\n",
    "array=df_ml.values\n",
    "\n",
    "# Define features\n",
    "X = array[:,:-1]\n",
    "\n",
    "# Define Target\n",
    "Y = array[:,-1]\n",
    "\n",
    "#Split Data into train and test\n",
    "X_train, X_test, y_train, y_test = train_test_split(X, Y, test_size = 0.25, random_state = 42)\n",
    "X_train.shape, X_test.shape, y_train.shape, y_test.shape"
   ]
  },
  {
   "cell_type": "code",
   "execution_count": 6,
   "metadata": {},
   "outputs": [],
   "source": [
    "#take out warnings that are not that important\n",
    "import warnings; warnings.simplefilter('ignore')"
   ]
  },
  {
   "cell_type": "markdown",
   "metadata": {},
   "source": [
    "# Step 4: Train and Score Models using Cross Validation and RMSE"
   ]
  },
  {
   "cell_type": "code",
   "execution_count": 7,
   "metadata": {},
   "outputs": [
    {
     "name": "stdout",
     "output_type": "stream",
     "text": [
      "Linear Regression RMSE Score: 0.817 (0.003)\n",
      "SGDR RMSE Score: 0.817 (0.003)\n",
      "Ridge RMSE Score: 0.817 (0.003)\n",
      "Lasso RMSE Score: 0.879 (0.004)\n",
      "KNN Regressor RMSE Score: 0.376 (0.005)\n",
      "Decision Tree Regressor RMSE Score: 0.382 (0.006)\n",
      "Random Forest Regressor RMSE Score: 0.292 (0.003)\n",
      "Gradient Boosting Regressor RMSE Score: 0.727 (0.004)\n"
     ]
    }
   ],
   "source": [
    "# The following code takes roughly 6 minutes to run using 2.21 Ghz and 16 GB RAM computer, time taken may vary according to machine capabilities\n",
    "# you may reduce number of n_splits for faster run, but may have lower results\n",
    "from sklearn.model_selection import cross_val_score\n",
    "from sklearn.model_selection import KFold\n",
    "\n",
    "results = []\n",
    "std = []\n",
    "for idx, val in enumerate(pipelines):\n",
    "    kfold = KFold(n_splits = 10, random_state = 42)\n",
    "    cv_results = cross_val_score(val, X_train, y_train, cv = kfold, scoring = 'neg_mean_squared_error')\n",
    "    rmse_scores = np.sqrt(-cv_results)\n",
    "    results.append(rmse_scores.mean())\n",
    "    std.append(rmse_scores.std())\n",
    "    print(\"{0}{1}: {2:.3f} ({3:.3f})\".format(pipeline_dict[idx], ' RMSE Score', results[idx], std[idx]))"
   ]
  },
  {
   "cell_type": "markdown",
   "metadata": {},
   "source": [
    "## Checkpoint 1: Random Forest Regressor has the best RMSE Score with the a low Standard Deviation, the next step is to validate the model using test Data"
   ]
  },
  {
   "cell_type": "markdown",
   "metadata": {},
   "source": [
    "# Step 5: Validate Model using Test Data"
   ]
  },
  {
   "cell_type": "code",
   "execution_count": 8,
   "metadata": {},
   "outputs": [
    {
     "name": "stdout",
     "output_type": "stream",
     "text": [
      "RMSE: 0.283\n",
      "R2: 0.897\n"
     ]
    }
   ],
   "source": [
    "from sklearn.preprocessing import MinMaxScaler\n",
    "from sklearn.metrics import mean_squared_error\n",
    "\n",
    "scaler=MinMaxScaler()\n",
    "X_tr_scale=scaler.fit_transform(X_train)\n",
    "X_te_scale=scaler.transform(X_test)\n",
    "\n",
    "rfr_model = RandomForestRegressor().fit(X_tr_scale, y_train)\n",
    "\n",
    "y_pred = rfr_model.predict(X_te_scale)\n",
    "Final_mse = mean_squared_error(y_test, y_pred)\n",
    "Final_rmse = np.sqrt(Final_mse)\n",
    "print('RMSE: {0:.3f}'.format(Final_rmse))\n",
    "print('R2: {0:.3f}'.format(rfr_model.score(X_te_scale, y_test)))"
   ]
  },
  {
   "cell_type": "markdown",
   "metadata": {},
   "source": [
    "## Checkpoint 2: RMSE Score on test data is fairly close to one gotten on train data, Also R2 value was 0.897-0.9 which is a great fit"
   ]
  },
  {
   "cell_type": "code",
   "execution_count": 9,
   "metadata": {},
   "outputs": [
    {
     "data": {
      "text/html": [
       "<div>\n",
       "<style scoped>\n",
       "    .dataframe tbody tr th:only-of-type {\n",
       "        vertical-align: middle;\n",
       "    }\n",
       "\n",
       "    .dataframe tbody tr th {\n",
       "        vertical-align: top;\n",
       "    }\n",
       "\n",
       "    .dataframe thead th {\n",
       "        text-align: right;\n",
       "    }\n",
       "</style>\n",
       "<table border=\"1\" class=\"dataframe\">\n",
       "  <thead>\n",
       "    <tr style=\"text-align: right;\">\n",
       "      <th></th>\n",
       "      <th>Predicted Test values</th>\n",
       "      <th>Actual Test values</th>\n",
       "      <th>diff</th>\n",
       "    </tr>\n",
       "  </thead>\n",
       "  <tbody>\n",
       "    <tr>\n",
       "      <th>0</th>\n",
       "      <td>2.199</td>\n",
       "      <td>2.47</td>\n",
       "      <td>-2.710000e-01</td>\n",
       "    </tr>\n",
       "    <tr>\n",
       "      <th>1</th>\n",
       "      <td>1.320</td>\n",
       "      <td>1.70</td>\n",
       "      <td>-3.800000e-01</td>\n",
       "    </tr>\n",
       "    <tr>\n",
       "      <th>2</th>\n",
       "      <td>1.090</td>\n",
       "      <td>1.09</td>\n",
       "      <td>2.220446e-16</td>\n",
       "    </tr>\n",
       "    <tr>\n",
       "      <th>3</th>\n",
       "      <td>1.455</td>\n",
       "      <td>1.46</td>\n",
       "      <td>-5.000000e-03</td>\n",
       "    </tr>\n",
       "    <tr>\n",
       "      <th>4</th>\n",
       "      <td>3.870</td>\n",
       "      <td>3.87</td>\n",
       "      <td>2.220446e-15</td>\n",
       "    </tr>\n",
       "    <tr>\n",
       "      <th>5</th>\n",
       "      <td>1.187</td>\n",
       "      <td>1.15</td>\n",
       "      <td>3.700000e-02</td>\n",
       "    </tr>\n",
       "    <tr>\n",
       "      <th>6</th>\n",
       "      <td>1.812</td>\n",
       "      <td>1.68</td>\n",
       "      <td>1.320000e-01</td>\n",
       "    </tr>\n",
       "    <tr>\n",
       "      <th>7</th>\n",
       "      <td>1.250</td>\n",
       "      <td>1.25</td>\n",
       "      <td>0.000000e+00</td>\n",
       "    </tr>\n",
       "    <tr>\n",
       "      <th>8</th>\n",
       "      <td>1.476</td>\n",
       "      <td>1.59</td>\n",
       "      <td>-1.140000e-01</td>\n",
       "    </tr>\n",
       "    <tr>\n",
       "      <th>9</th>\n",
       "      <td>3.698</td>\n",
       "      <td>3.73</td>\n",
       "      <td>-3.200000e-02</td>\n",
       "    </tr>\n",
       "    <tr>\n",
       "      <th>10</th>\n",
       "      <td>1.554</td>\n",
       "      <td>1.49</td>\n",
       "      <td>6.400000e-02</td>\n",
       "    </tr>\n",
       "    <tr>\n",
       "      <th>11</th>\n",
       "      <td>1.900</td>\n",
       "      <td>1.84</td>\n",
       "      <td>6.000000e-02</td>\n",
       "    </tr>\n",
       "    <tr>\n",
       "      <th>12</th>\n",
       "      <td>1.440</td>\n",
       "      <td>1.44</td>\n",
       "      <td>-6.661338e-16</td>\n",
       "    </tr>\n",
       "    <tr>\n",
       "      <th>13</th>\n",
       "      <td>2.671</td>\n",
       "      <td>2.88</td>\n",
       "      <td>-2.090000e-01</td>\n",
       "    </tr>\n",
       "    <tr>\n",
       "      <th>14</th>\n",
       "      <td>2.970</td>\n",
       "      <td>2.97</td>\n",
       "      <td>-8.881784e-16</td>\n",
       "    </tr>\n",
       "    <tr>\n",
       "      <th>15</th>\n",
       "      <td>1.861</td>\n",
       "      <td>1.84</td>\n",
       "      <td>2.100000e-02</td>\n",
       "    </tr>\n",
       "    <tr>\n",
       "      <th>16</th>\n",
       "      <td>1.752</td>\n",
       "      <td>1.75</td>\n",
       "      <td>2.000000e-03</td>\n",
       "    </tr>\n",
       "    <tr>\n",
       "      <th>17</th>\n",
       "      <td>1.720</td>\n",
       "      <td>1.72</td>\n",
       "      <td>-6.661338e-16</td>\n",
       "    </tr>\n",
       "    <tr>\n",
       "      <th>18</th>\n",
       "      <td>3.638</td>\n",
       "      <td>3.77</td>\n",
       "      <td>-1.320000e-01</td>\n",
       "    </tr>\n",
       "    <tr>\n",
       "      <th>19</th>\n",
       "      <td>1.999</td>\n",
       "      <td>2.07</td>\n",
       "      <td>-7.100000e-02</td>\n",
       "    </tr>\n",
       "  </tbody>\n",
       "</table>\n",
       "</div>"
      ],
      "text/plain": [
       "    Predicted Test values  Actual Test values          diff\n",
       "0                   2.199                2.47 -2.710000e-01\n",
       "1                   1.320                1.70 -3.800000e-01\n",
       "2                   1.090                1.09  2.220446e-16\n",
       "3                   1.455                1.46 -5.000000e-03\n",
       "4                   3.870                3.87  2.220446e-15\n",
       "5                   1.187                1.15  3.700000e-02\n",
       "6                   1.812                1.68  1.320000e-01\n",
       "7                   1.250                1.25  0.000000e+00\n",
       "8                   1.476                1.59 -1.140000e-01\n",
       "9                   3.698                3.73 -3.200000e-02\n",
       "10                  1.554                1.49  6.400000e-02\n",
       "11                  1.900                1.84  6.000000e-02\n",
       "12                  1.440                1.44 -6.661338e-16\n",
       "13                  2.671                2.88 -2.090000e-01\n",
       "14                  2.970                2.97 -8.881784e-16\n",
       "15                  1.861                1.84  2.100000e-02\n",
       "16                  1.752                1.75  2.000000e-03\n",
       "17                  1.720                1.72 -6.661338e-16\n",
       "18                  3.638                3.77 -1.320000e-01\n",
       "19                  1.999                2.07 -7.100000e-02"
      ]
     },
     "execution_count": 9,
     "metadata": {},
     "output_type": "execute_result"
    }
   ],
   "source": [
    "pred_vs_actual=pd.DataFrame(columns=['Predicted Test values','Actual Test values','diff'])\n",
    "pred_vs_actual['Predicted Test values']=y_pred\n",
    "pred_vs_actual['Actual Test values']=y_test\n",
    "pred_vs_actual['diff']=pred_vs_actual['Predicted Test values']-pred_vs_actual['Actual Test values']\n",
    "\n",
    "pred_vs_actual.head(20)"
   ]
  },
  {
   "cell_type": "code",
   "execution_count": 10,
   "metadata": {},
   "outputs": [
    {
     "data": {
      "image/png": "[encoded data removed]",
      "text/plain": [
       "<Figure size 1440x720 with 1 Axes>"
      ]
     },
     "metadata": {
      "needs_background": "light"
     },
     "output_type": "display_data"
    }
   ],
   "source": [
    "import matplotlib.pyplot as plt\n",
    "%matplotlib inline\n",
    "fig = plt.figure(figsize = (20, 10))\n",
    "ax = fig.add_subplot(111)\n",
    "ax.set(title = \"Random Forest Regressor Model\", xlabel = \"Y values (actual Test Data)\", ylabel = \"Y values (predicted Test Data)\")\n",
    "ax.scatter(y_test, y_pred)\n",
    "ax.plot([0, max(y_test)], [0, max(y_pred)], color = 'r')\n",
    "fig.show();"
   ]
  },
  {
   "cell_type": "code",
   "execution_count": 11,
   "metadata": {},
   "outputs": [],
   "source": [
    "def evaluate(predictions, test_data):\n",
    "    errors = abs(predictions - test_data)\n",
    "    mape = 100 * np.mean(errors / test_data)\n",
    "    accuracy = 100 - mape\n",
    "    print('Model Performance')\n",
    "    print('Average Error: {:0.4f}'.format(np.mean(errors)))\n",
    "    print('Accuracy = {:0.2f}%'.format(accuracy))\n",
    "    \n",
    "    return accuracy"
   ]
  },
  {
   "cell_type": "code",
   "execution_count": 12,
   "metadata": {},
   "outputs": [
    {
     "name": "stdout",
     "output_type": "stream",
     "text": [
      "Model Performance\n",
      "Average Error: 0.1242\n",
      "Accuracy = 93.58%\n"
     ]
    }
   ],
   "source": [
    "base_accuracy = evaluate(y_pred, y_test)"
   ]
  },
  {
   "cell_type": "markdown",
   "metadata": {},
   "source": [
    "# Step 6: Improving Model using Simple Hyperparameter Tuning"
   ]
  },
  {
   "cell_type": "code",
   "execution_count": 13,
   "metadata": {},
   "outputs": [
    {
     "name": "stdout",
     "output_type": "stream",
     "text": [
      "Parameters currently in use:\n",
      "\n",
      "{'bootstrap': True,\n",
      " 'criterion': 'mse',\n",
      " 'max_depth': None,\n",
      " 'max_features': 'auto',\n",
      " 'max_leaf_nodes': None,\n",
      " 'min_impurity_decrease': 0.0,\n",
      " 'min_impurity_split': None,\n",
      " 'min_samples_leaf': 1,\n",
      " 'min_samples_split': 2,\n",
      " 'min_weight_fraction_leaf': 0.0,\n",
      " 'n_estimators': 'warn',\n",
      " 'n_jobs': None,\n",
      " 'oob_score': False,\n",
      " 'random_state': 42,\n",
      " 'verbose': 0,\n",
      " 'warm_start': False}\n"
     ]
    }
   ],
   "source": [
    "#check available parameters to tune, from random forest documentation in SKlearn\n",
    "\n",
    "#n_estimators = number of trees in the foreset\n",
    "#max_features = max number of features considered for splitting a node\n",
    "#max_depth = max number of levels in each decision tree\n",
    "#min_samples_split = min number of data points placed in a node before the node is split\n",
    "#min_samples_leaf = min number of data points allowed in a leaf node\n",
    "# bootstrap = method for sampling data points (with or without replacement)\n",
    "\n",
    "rf = RandomForestRegressor(random_state = 42)\n",
    "from pprint import pprint\n",
    "# Look at parameters used by our current forest\n",
    "print('Parameters currently in use:\\n')\n",
    "pprint(rf.get_params())"
   ]
  },
  {
   "cell_type": "code",
   "execution_count": 14,
   "metadata": {},
   "outputs": [
    {
     "data": {
      "text/plain": [
       "GridSearchCV(cv=KFold(n_splits=3, random_state=42, shuffle=False),\n",
       "       error_score='raise-deprecating',\n",
       "       estimator=RandomForestRegressor(bootstrap=True, criterion='mse', max_depth=None,\n",
       "           max_features='auto', max_leaf_nodes=None,\n",
       "           min_impurity_decrease=0.0, min_impurity_split=None,\n",
       "           min_samples_leaf=1, min_samples_split=2,\n",
       "           min_weight_fraction_leaf=0.0, n_estimators='warn', n_jobs=None,\n",
       "           oob_score=False, random_state=42, verbose=0, warm_start=False),\n",
       "       fit_params=None, iid='warn', n_jobs=None,\n",
       "       param_grid={'max_depth': [10, 50], 'n_estimators': [10, 30]},\n",
       "       pre_dispatch='2*n_jobs', refit=True, return_train_score='warn',\n",
       "       scoring='neg_mean_squared_error', verbose=0)"
      ]
     },
     "execution_count": 14,
     "metadata": {},
     "output_type": "execute_result"
    }
   ],
   "source": [
    "from sklearn.model_selection import GridSearchCV\n",
    "\n",
    "scaler = MinMaxScaler()\n",
    "X_tr_scale=scaler.fit_transform(X_train)\n",
    "\n",
    "param_grid = {'max_depth': [10,50], 'n_estimators': [10,30]}\n",
    "\n",
    "\n",
    "model = RandomForestRegressor(random_state = 42)\n",
    "\n",
    "#using smaller number of splits for speed\n",
    "kfold = KFold(n_splits = 3, random_state = 42)\n",
    "grid_search = GridSearchCV(model, param_grid, cv = kfold, scoring = 'neg_mean_squared_error')\n",
    "grid_search.fit(X_tr_scale, y_train)"
   ]
  },
  {
   "cell_type": "code",
   "execution_count": 15,
   "metadata": {},
   "outputs": [
    {
     "data": {
      "text/plain": [
       "RandomForestRegressor(bootstrap=True, criterion='mse', max_depth=50,\n",
       "           max_features='auto', max_leaf_nodes=None,\n",
       "           min_impurity_decrease=0.0, min_impurity_split=None,\n",
       "           min_samples_leaf=1, min_samples_split=2,\n",
       "           min_weight_fraction_leaf=0.0, n_estimators=30, n_jobs=None,\n",
       "           oob_score=False, random_state=42, verbose=0, warm_start=False)"
      ]
     },
     "execution_count": 15,
     "metadata": {},
     "output_type": "execute_result"
    },
    {
     "name": "stdout",
     "output_type": "stream",
     "text": [
      "RMSE: 0.283\n",
      "R2: 0.908\n"
     ]
    }
   ],
   "source": [
    "from sklearn.metrics import mean_squared_error\n",
    "\n",
    "Final_Model = grid_search.best_estimator_ \n",
    "Final_Model.fit(X_tr_scale, y_train)\n",
    "\n",
    "X_te_scale = scaler.transform(X_test)\n",
    "y_pred_tuned = Final_Model.predict(X_te_scale)\n",
    "Final_mse = mean_squared_error(y_test, y_pred)\n",
    "Final_rmse = np.sqrt(Final_mse)\n",
    "print('RMSE: {0:.3f}'.format(Final_rmse))\n",
    "print('R2: {0:.3f}'.format(Final_Model.score(X_te_scale, y_test)))"
   ]
  },
  {
   "cell_type": "code",
   "execution_count": 16,
   "metadata": {},
   "outputs": [
    {
     "name": "stdout",
     "output_type": "stream",
     "text": [
      "Model Performance\n",
      "Average Error: 0.1199\n",
      "Accuracy = 93.80%\n"
     ]
    }
   ],
   "source": [
    "Tuned_accuracy = evaluate(y_pred_tuned, y_test)"
   ]
  },
  {
   "cell_type": "markdown",
   "metadata": {},
   "source": [
    "## Final: Simple Hyperparaemter tunning increased model performance by 0.16% in terms of accuracy, further hyperparatemer tuning may be proven beneficial with larger n_splits in cross validation."
   ]
  },
  {
   "cell_type": "code",
   "execution_count": null,
   "metadata": {},
   "outputs": [],
   "source": []
  }
 ],
 "metadata": {
  "kernelspec": {
   "display_name": "Python 3",
   "language": "python",
   "name": "python3"
  },
  "language_info": {
   "codemirror_mode": {
    "name": "ipython",
    "version": 3
   },
   "file_extension": ".py",
   "mimetype": "text/x-python",
   "name": "python",
   "nbconvert_exporter": "python",
   "pygments_lexer": "ipython3",
   "version": "3.7.0"
  }
 },
 "nbformat": 4,
 "nbformat_minor": 2
}
